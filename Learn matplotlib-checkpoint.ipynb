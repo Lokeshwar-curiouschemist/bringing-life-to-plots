{
 "cells": [
  {
   "cell_type": "markdown",
   "id": "e58a2743",
   "metadata": {},
   "source": [
    "# learn matplotlib(math intuitevely)\n",
    "### as a math lover, learning to code for adding elegance to static plots(like geogebra)"
   ]
  },
  {
   "cell_type": "markdown",
   "id": "74867cc2",
   "metadata": {},
   "source": [
    "# General Template: Coordinate-style 2D Graph"
   ]
  },
  {
   "cell_type": "markdown",
   "id": "2b4cef22",
   "metadata": {},
   "source": [
    "## step 0: \"core plotting setup"
   ]
  },
  {
   "cell_type": "code",
   "execution_count": null,
   "id": "6a2f0a90",
   "metadata": {},
   "outputs": [],
   "source": [
    "import numpy as np #matplotlib.pyplot is the core plotting library (like a digital graph paper)\n",
    "\n",
    "import matplotlib.pyplot as plt #numpy is helpful for creating ranges of numbers (x-values) and functions"
   ]
  },
  {
   "cell_type": "markdown",
   "id": "f008a428",
   "metadata": {},
   "source": [
    "## step 1: \"Define domain\""
   ]
  },
  {
   "cell_type": "markdown",
   "id": "1b45e831",
   "metadata": {},
   "source": [
    "#### np.linspace is a function from the NumPy library that creates an array of evenly spaced numbers over a specified interval. Think of it like drawing a ruler between two points and marking off equal divisions.\n",
    "#### for our purpose,we define domain(input of our function using such arrays)\n",
    "#### for example,  \n",
    "To define a smooth domain from -4 to 4 with 500 points:\n",
    "\n",
    "```python\n",
    "x = np.linspace(-4, 4, 500)\n",
    "```\n",
    "here 500 mean, \"Give me 500 equally spaced values from -4 to 4.”\n",
    "##### rule of thumb,larger the third input smoother the curve(checkout 100 and 1000)\n",
    "#### ⚠️ What if the domain is restricted?\n",
    "imagine you're plotting regular rectangular hyperbola,but you don't want to include x = 0\n",
    "```python\n",
    "x = np.linspace(-5, -0.1, 100)\n",
    "x2 = np.linspace(0.1, 5, 100)\n",
    "```  \n",
    "You split the domain using linspace to avoid the discontinuity!"
   ]
  },
  {
   "cell_type": "markdown",
   "id": "d29bc158",
   "metadata": {},
   "source": [
    "## step 2: \"Define function(s)\""
   ]
  },
  {
   "cell_type": "markdown",
   "id": "32ad6590",
   "metadata": {},
   "source": [
    "#### it's just defining what our function of y in terms of x.\n",
    "for now,we are dealing with just single variable function\n",
    "```python  \n",
    "y = 2*np.sin(2*np.pi*x) \n",
    "```  \n",
    "We use np.sin() and np.pi from the NumPy library because they give us powerful, precise, and efficient tools for working with trigonometric functions and mathematical constants—especially when plotting or analyzing functions in Python.\n",
    "#### you can also include second or third fuction with another naming like g = ..., h =...,function = ..., banana = ...,\n",
    "```python  \n",
    "g = np.cos(2*np.pi*x) \n",
    "``` "
   ]
  },
  {
   "cell_type": "markdown",
   "id": "173cfd79",
   "metadata": {},
   "source": [
    "## step 3:\"Set up plot\""
   ]
  },
  {
   "cell_type": "markdown",
   "id": "8560a02c",
   "metadata": {},
   "source": [
    "### 🎨 Visualizing `figsize` — How Big Is Your Canvas?\n",
    "\n",
    "The `figsize` argument in `plt.figure(figsize=(width, height))` sets the dimensions of your plot in **inches**.  \n",
    "Larger width → wider graph. Larger height → taller graph.  \n",
    "\n",
    "\n",
    "#### Default-ish size (6x4 inches)\n",
    "#### Wide format (12x4 inches)\n",
    "#### Square format (5x5 inches)\n",
    "#### Tall format (4x8 inches)\n",
    "##### we will just check out them in our real plot(so you can decide what choses you)\n",
    "### 🔧 What plt.plot() Does\n",
    "##### At its core, plt.plot() draws lines (and optionally markers) between points on a 2D plane.\n",
    "### 🧠 Basic Syntax\n",
    "```python\n",
    "plt.plot(x, y, format_string, **kwargs)\n",
    "```  \n",
    "###### x: array-like, the horizontal coordinates\n",
    "###### y: array-like, the vertical coordinates\n",
    "###### format_string (optional): a shortcut to define color, marker, and line style\n",
    "###### **kwargs: keyword arguments to customize appearance\n",
    "###### example\n",
    "```python  \n",
    "plt.plot(x, y, label = 'y = 2sin2x', color = 'green', linewidth = 2)\n",
    "```  \n",
    "here,we can label our graph,and color the line which represents our graph and change its linewidth\n",
    "##### for more custamization of color, go to web and search for hexadecimal color,and type your choosed hexadecimal \n",
    "color = '#BD614D'\n",
    "##### for plotting more than one function on the same domain:  \n",
    "plt.plot(x, y, label = '$y = 2\\sin(2\\pi x)$', color = 'orange', linwidth = 2)  \n",
    "\n",
    "plt.plot(x, g, label = '$g = \\cos(2\\pi x)$', color = '#2BCC53', linewidth = 1)\n",
    "\n",
    "##### just use the defined variable,instead of y!!\n"
   ]
  },
  {
   "cell_type": "markdown",
   "id": "fca4b313",
   "metadata": {},
   "source": [
    "### More Customization??\n",
    "##### check out various colors, and shortcuts,\n",
    "'r' = 'red', 'g' = 'green', 'b' = 'blue', 'k' = 'black',....\n",
    "##### can also include linestyle keyword(or ls for shortcut) in plt.plot():\n",
    "\n",
    "'solid'\t    '-'\t    Default solid line  \n",
    "'dashed'\t'--'\tDashed line<br>\n",
    "'dotted'\t':'\t    Dotted line<br> \n",
    "'dashdot'\t'-.'\tDash-dot line\n",
    "\n",
    "#### you can also check in markers option,like marker = '*',..(if needed)\n",
    "##### Font color options:🎨 [Matplotlib Font and Color Styling Guide](https://bing.com/search?q=matplotlib+font+color+options)\n",
    "##### Markers Reference:🟣 [Matplotlib Marker Reference – Official Docs](https://matplotlib.org/stable/api/markers_api.html)\n"
   ]
  },
  {
   "cell_type": "markdown",
   "id": "7a040b49",
   "metadata": {},
   "source": [
    "## step 4: Origin-centered coordinate axes(optional)"
   ]
  },
  {
   "cell_type": "code",
   "execution_count": null,
   "id": "5f203693",
   "metadata": {},
   "outputs": [],
   "source": []
  }
 ],
 "metadata": {
  "kernelspec": {
   "display_name": "Python 3 (ipykernel)",
   "language": "python",
   "name": "python3"
  },
  "language_info": {
   "codemirror_mode": {
    "name": "ipython",
    "version": 3
   },
   "file_extension": ".py",
   "mimetype": "text/x-python",
   "name": "python",
   "nbconvert_exporter": "python",
   "pygments_lexer": "ipython3",
   "version": "3.12.3"
  }
 },
 "nbformat": 4,
 "nbformat_minor": 5
}
